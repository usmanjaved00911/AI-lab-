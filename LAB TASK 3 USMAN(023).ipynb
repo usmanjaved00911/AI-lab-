{
 "cells": [
  {
   "cell_type": "markdown",
   "id": "c70670b0",
   "metadata": {},
   "source": [
    "## **Task 3**\n",
    "## USMAN JAVED"
   ]
  },
  {
   "cell_type": "code",
   "execution_count": 1,
   "id": "338e4858",
   "metadata": {},
   "outputs": [
    {
     "name": "stdout",
     "output_type": "stream",
     "text": [
      "Action needed at 19°C: Turn ON\n",
      "Action needed at 20.5°C: Do nothing\n",
      "Action needed at 23°C: Turn OFF\n"
     ]
    }
   ],
   "source": [
    "class HeaterAgent:\n",
    "    def __init__(self):\n",
    "        self.last_action = \"OFF\"\n",
    "\n",
    "    def decide_action(self, current_temp):\n",
    "        if current_temp < 20 and self.last_action == \"OFF\":\n",
    "            self.last_action = \"ON\"\n",
    "            return \"Turn ON\"\n",
    "        elif current_temp > 22 and self.last_action == \"ON\":\n",
    "            self.last_action = \"OFF\"\n",
    "            return \"Turn OFF\"\n",
    "        else:\n",
    "            return \"Do nothing\"\n",
    "\n",
    "agent = HeaterAgent()\n",
    "\n",
    "print(f\"Action needed at 19°C: {agent.decide_action(19)}\")\n",
    "print(f\"Action needed at 20.5°C: {agent.decide_action(20.5)}\")\n",
    "print(f\"Action needed at 23°C: {agent.decide_action(23)}\")"
   ]
  }
 ],
 "metadata": {
  "kernelspec": {
   "display_name": "base",
   "language": "python",
   "name": "python3"
  },
  "language_info": {
   "codemirror_mode": {
    "name": "ipython",
    "version": 3
   },
   "file_extension": ".py",
   "mimetype": "text/x-python",
   "name": "python",
   "nbconvert_exporter": "python",
   "pygments_lexer": "ipython3",
   "version": "3.13.2"
  }
 },
 "nbformat": 4,
 "nbformat_minor": 5
}
